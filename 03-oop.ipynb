{
 "cells": [
  {
   "cell_type": "markdown",
   "metadata": {},
   "source": [
    "# Object Oriented Programming\n",
    "Adapted from a [notebook](https://github.com/yoavram/Py4Eng/blob/master/sessions/oop.ipynb) by Yoav Ram."
   ]
  },
  {
   "cell_type": "markdown",
   "metadata": {},
   "source": [
    "# Introduction to OOP\n",
    "\n",
    "\n",
    "*Everything in Python is an object* so everything in Python has a class. \n",
    "You can find out which class an object belongs to by using the default property `__class__` or giving it to the function `type`. Even the return of the `type` function has a class - it's of class `type`!"
   ]
  },
  {
   "cell_type": "code",
   "execution_count": null,
   "metadata": {},
   "outputs": [],
   "source": [
    "print(type(5))\n",
    "print(type(type(5)))"
   ]
  },
  {
   "cell_type": "code",
   "execution_count": null,
   "metadata": {},
   "outputs": [],
   "source": [
    "a = 'Hi'\n",
    "print(type(a))\n",
    "print(type(type(a)))"
   ]
  },
  {
   "cell_type": "code",
   "execution_count": null,
   "metadata": {},
   "outputs": [],
   "source": [
    "type(type(type(type(type(a)))))"
   ]
  },
  {
   "cell_type": "markdown",
   "metadata": {},
   "source": [
    "The basic object type is `object`:"
   ]
  },
  {
   "cell_type": "code",
   "execution_count": null,
   "metadata": {},
   "outputs": [],
   "source": [
    "print(object)\n",
    "print(type(object))"
   ]
  },
  {
   "cell_type": "markdown",
   "metadata": {},
   "source": [
    "Every class implicitly inherits from `object`, so all classes have some default attributes:"
   ]
  },
  {
   "cell_type": "code",
   "execution_count": null,
   "metadata": {},
   "outputs": [],
   "source": [
    "print(dir(object))\n",
    "type(dir(object))"
   ]
  },
  {
   "cell_type": "code",
   "execution_count": null,
   "metadata": {},
   "outputs": [],
   "source": [
    "object_dir = set(dir(object))\n",
    "int_dir = set(dir(int))\n",
    "\n",
    "print('Attributes in object but not in int:\\n', object_dir - int_dir, '\\n')\n",
    "print('Attributes in int but not in object:\\n', int_dir - object_dir, '\\n')"
   ]
  },
  {
   "cell_type": "markdown",
   "metadata": {},
   "source": [
    "Those methods that `int` has but `object` doesn't have define the behaviour of `int`.\n",
    "Specificially, all the `__xxx__` methods are special methods that interact with Python in specific ways, defining operators etc."
   ]
  },
  {
   "cell_type": "markdown",
   "metadata": {},
   "source": [
    "## Class definition"
   ]
  },
  {
   "cell_type": "code",
   "execution_count": null,
   "metadata": {},
   "outputs": [],
   "source": [
    "class MyClass:\n",
    "    pass"
   ]
  },
  {
   "cell_type": "markdown",
   "metadata": {},
   "source": [
    "We defined a new class called `MyClass`.\n",
    "We can now create a new instance of our new class:"
   ]
  },
  {
   "cell_type": "code",
   "execution_count": null,
   "metadata": {},
   "outputs": [],
   "source": [
    "my_class1 = MyClass()\n",
    "my_class2 = MyClass()\n",
    "print(id(my_class1))\n",
    "print(type(my_class1))\n",
    "print(id(my_class2))\n",
    "print(type(my_class2))"
   ]
  },
  {
   "cell_type": "markdown",
   "metadata": {},
   "source": [
    "Note that both instances have the same type but a different `id`, so they are not the same object:"
   ]
  },
  {
   "cell_type": "code",
   "execution_count": null,
   "metadata": {},
   "outputs": [],
   "source": [
    "my_class1 is my_class2"
   ]
  },
  {
   "cell_type": "markdown",
   "metadata": {},
   "source": [
    "We can check if an object is an instance of a class with the `isinstance` function:"
   ]
  },
  {
   "cell_type": "code",
   "execution_count": null,
   "metadata": {},
   "outputs": [],
   "source": [
    "print(isinstance(my_class1, MyClass))\n",
    "print(isinstance(my_class1, object))\n",
    "print(isinstance(my_class1, int))"
   ]
  },
  {
   "cell_type": "markdown",
   "metadata": {},
   "source": [
    "Because all classes have a `__doc__` attribute inherited from `object`, \n",
    "you can pass any instance to `help`:"
   ]
  },
  {
   "cell_type": "code",
   "execution_count": null,
   "metadata": {},
   "outputs": [],
   "source": [
    "help(my_class1) # uses the __doc__ attribute"
   ]
  },
  {
   "cell_type": "code",
   "execution_count": null,
   "metadata": {},
   "outputs": [],
   "source": [
    "type(my_class1)"
   ]
  },
  {
   "cell_type": "code",
   "execution_count": null,
   "metadata": {},
   "outputs": [],
   "source": [
    "my_class1.__class__\n"
   ]
  },
  {
   "cell_type": "markdown",
   "metadata": {},
   "source": [
    "# `Point` class\n",
    "\n",
    "Let's learn more by writing a class for a point in a n-dimensional Euclidian space ($\\mathbb{R}^n$).\n",
    "\n",
    "We start with the class definition (`class`) and the constructor (`__init__`) which initialized the attributes of the class instance. This is a 2D point, but soon we'll change it to nD point.\n",
    "\n",
    "Note that the first argument to methods (member functions) is always `self`, a reference to the instance.\n",
    "\n",
    "We don't need to check the types of the `__init__` arguments; rather, we try to convert them to `float`, and let the conversion fail if the types are wrong."
   ]
  },
  {
   "cell_type": "code",
   "execution_count": null,
   "metadata": {},
   "outputs": [],
   "source": [
    "import numbers\n",
    "import math"
   ]
  },
  {
   "cell_type": "code",
   "execution_count": null,
   "metadata": {},
   "outputs": [],
   "source": [
    "class Point:\n",
    "    \"\"\"A point in 2D Euclidian plane.\n",
    "    \"\"\"\n",
    "    \n",
    "    def __init__(self, x, y):        \n",
    "        # assert isinstance(x, (int, float)) and isinstance(y, (int, float))\n",
    "        self.x = float(x)\n",
    "        self.y = float(y)\n",
    "        "
   ]
  },
  {
   "cell_type": "code",
   "execution_count": null,
   "metadata": {},
   "outputs": [],
   "source": [
    "origin = Point(0, 0)\n",
    "print('origin', origin.x, origin.y)\n",
    "\n",
    "p = Point(1, 2)\n",
    "print('p', p.x, p.y)\n"
   ]
  },
  {
   "cell_type": "code",
   "execution_count": null,
   "metadata": {},
   "outputs": [],
   "source": [
    "print(p.__dict__)"
   ]
  },
  {
   "cell_type": "markdown",
   "metadata": {},
   "source": [
    "Notice that when we send a `Point` to the console we get:"
   ]
  },
  {
   "cell_type": "code",
   "execution_count": null,
   "metadata": {},
   "outputs": [],
   "source": [
    "p"
   ]
  },
  {
   "cell_type": "markdown",
   "metadata": {},
   "source": [
    "Which is not useful, so we will define how `Point` is represented in the console by implementing `__repr__` and/or `__str__` which must return a string:"
   ]
  },
  {
   "cell_type": "code",
   "execution_count": null,
   "metadata": {},
   "outputs": [],
   "source": [
    "class Point:\n",
    "    \"\"\"A point (x,y) in the Euclidian plane.\n",
    "    \"\"\"\n",
    "    \n",
    "    def __init__(self, x, y):        \n",
    "        self.x = float(x)\n",
    "        self.y = float(y)\n",
    "        \n",
    "    def __repr__(self):\n",
    "        # what a programmer wants to see, should work with eval\n",
    "        return f'{type(self).__name__}({self.x!r}, {self.y!r})'\n",
    "        # !r calls repr() on the argument\n",
    "        \n",
    "    def __str__(self):\n",
    "        # what a user wants to see\n",
    "        return f'({self.x}, {self.y})'\n",
    "    "
   ]
  },
  {
   "cell_type": "code",
   "execution_count": null,
   "metadata": {},
   "outputs": [],
   "source": [
    "p = Point(1,2)\n",
    "p"
   ]
  },
  {
   "cell_type": "code",
   "execution_count": null,
   "metadata": {},
   "outputs": [],
   "source": [
    "print(p)"
   ]
  },
  {
   "cell_type": "code",
   "execution_count": null,
   "metadata": {},
   "outputs": [],
   "source": [
    "print(f'{p!r}')"
   ]
  },
  {
   "cell_type": "markdown",
   "metadata": {},
   "source": [
    "Let's modify this to an n-dimensional point. Also, it would also be nice to be able to do `x, y = p` or `x, y, z = p` rather than `x, y = p.x, p.y`. To do that, we implement the `__iter__` method, which should either return an iterator or be a generator function. We'll also re-implement `__init__` to accept an arbitrary number of coordinates, and `__repr__` to use the iterator:"
   ]
  },
  {
   "cell_type": "code",
   "execution_count": null,
   "metadata": {},
   "outputs": [],
   "source": [
    "class Point:\n",
    "    \"\"\"A point in a Euclidian space.\n",
    "    \"\"\"\n",
    "    \n",
    "    def __init__(self, *coords):\n",
    "        self.coords = tuple(float(x) for x in coords) # convert inputs to a tuple of floats\n",
    "    \n",
    "    def __iter__(self):\n",
    "        return iter(self.coords) # delegate to tuple: return the tuple iterator\n",
    "\n",
    "    def __len__(self):\n",
    "        return len(self.coords) # delegate to tuple\n",
    "     \n",
    "    def __repr__(self):\n",
    "        # what a programmer wants to see, should work with eval\n",
    "        formatted_coords = (f'{x!r}' for x in self) # format each coordinate with its own __repr__ method\n",
    "        formatted_coords = ', '.join(formatted_coords) # join (reduce) all coordinates      \n",
    "        cls_name = type(self).__name__ # the name of this class - we get it dynamically so that it will work with inheritance\n",
    "        return f'{cls_name}({formatted_coords})'"
   ]
  },
  {
   "cell_type": "code",
   "execution_count": null,
   "metadata": {},
   "outputs": [],
   "source": [
    "p = Point(5, 7.2)\n",
    "print(p)\n",
    "p"
   ]
  },
  {
   "cell_type": "code",
   "execution_count": null,
   "metadata": {},
   "outputs": [],
   "source": [
    "for c in p:\n",
    "    print(c)"
   ]
  },
  {
   "cell_type": "code",
   "execution_count": null,
   "metadata": {},
   "outputs": [],
   "source": [
    "x, y = p\n",
    "print(x, y, p)\n",
    "len(p)"
   ]
  },
  {
   "cell_type": "markdown",
   "metadata": {},
   "source": [
    "This is very nice because it can now work with an arbitrary number of coordinates:"
   ]
  },
  {
   "cell_type": "code",
   "execution_count": null,
   "metadata": {
    "scrolled": true
   },
   "outputs": [],
   "source": [
    "p = Point(1.5, 5.6, 23.3, 555, 2)\n",
    "print(f'{p} is in ℝ^{len(p)}')"
   ]
  },
  {
   "cell_type": "markdown",
   "metadata": {},
   "source": [
    "Next up we define a method to add two points. Addition is by elements, for a 2D point: $(x_1, y_1) + (x_2, y_2) = (x_1+x_2, y_1+y_2)$.\n",
    "\n",
    "We also allow to add an `int` or `float`, in which case we add the point to another point with all coordinates equal to the argument value."
   ]
  },
  {
   "cell_type": "code",
   "execution_count": null,
   "metadata": {},
   "outputs": [],
   "source": [
    "class Point:\n",
    "    \"\"\"A point in a Euclidian space.\n",
    "    \"\"\"\n",
    "    \n",
    "    def __init__(self, *coords):        \n",
    "        self.coords = tuple(float(x) for x in coords)\n",
    "    \n",
    "    def __iter__(self):\n",
    "        return iter(self.coords)\n",
    "    \n",
    "    def __len__(self):\n",
    "        return len(self.coords)\n",
    "     \n",
    "    def __repr__(self):\n",
    "        # what a programmer wants to see, should work with eval\n",
    "        formatted_coords = (f'{x!r}' for x in self) # format each coordinate with its own __repr__ method\n",
    "        formatted_coords = ', '.join(formatted_coords) # join (reduce) all coordinates      \n",
    "        cls_name = type(self).__name__ # the name of this class - we get it dynamically so that it will work with inheritance\n",
    "        return f'{cls_name}({formatted_coords})'\n",
    "    \n",
    "    def add(self, other):\n",
    "        cls = type(self)\n",
    "        if isinstance(other, numbers.Real):\n",
    "            coords = (x + other for x in self)\n",
    "            return cls(*coords)\n",
    "        if isinstance(other, cls):\n",
    "            if len(self) != len(other):\n",
    "                raise ValueError('Unmatching number of coordinates')\n",
    "            coords = (x1 + x2 for x1, x2 in zip(self, other))\n",
    "            return cls(*coords)\n",
    "        raise TypeError(f\"unsupported operand type(s) for +: '{cls.__name__}' and '{type(other).__name__}'\")"
   ]
  },
  {
   "cell_type": "code",
   "execution_count": null,
   "metadata": {},
   "outputs": [],
   "source": [
    "print(Point(1,1).add(Point(2,2)))\n",
    "\n",
    "print(Point.add(Point(1,1), Point(2,2)))"
   ]
  },
  {
   "cell_type": "code",
   "execution_count": null,
   "metadata": {},
   "outputs": [],
   "source": [
    "Point(1, 1, 1).add(2)"
   ]
  },
  {
   "cell_type": "code",
   "execution_count": null,
   "metadata": {},
   "outputs": [],
   "source": [
    "Point(1,1).add('2')"
   ]
  },
  {
   "cell_type": "markdown",
   "metadata": {},
   "source": [
    "A nicer way to implement addition is to **overload** the addition operator `+` by implementing `__add__`, which is a name Python reserves for addition operations (those are double underscores). In that case, we don't need to raise the `TypeError` exception but rather just return the `NotImplemented` constant and Python will take care of the error (after checking if the right hand object knows how to do right-add using `__radd__`):"
   ]
  },
  {
   "cell_type": "code",
   "execution_count": null,
   "metadata": {},
   "outputs": [],
   "source": [
    "class Point:\n",
    "    \"\"\"A point in a Euclidian space.\n",
    "    \"\"\"\n",
    "    \n",
    "    def __init__(self, *coords):        \n",
    "        self.coords = tuple(float(x) for x in coords)\n",
    "    \n",
    "    def __iter__(self):\n",
    "        return iter(self.coords)\n",
    "    \n",
    "    def __len__(self):\n",
    "        return len(self.coords)\n",
    "     \n",
    "    def __repr__(self):\n",
    "        # what a programmer wants to see, should work with eval\n",
    "        formatted_coords = (f'{x!r}' for x in self) # format each coordinate with its own __repr__ method\n",
    "        formatted_coords = ', '.join(formatted_coords) # join (reduce) all coordinates      \n",
    "        cls_name = type(self).__name__ # the name of this class - we get it dynamically so that it will work with inheritance\n",
    "        return f'{cls_name}({formatted_coords})'\n",
    "    \n",
    "    def __add__(self, other):\n",
    "        cls = type(self)\n",
    "        if isinstance(other, numbers.Real):\n",
    "            coords = (x + other for x in self)\n",
    "            return cls(*coords)\n",
    "        if isinstance(other, cls):\n",
    "            if len(self) != len(other):\n",
    "                raise ValueError('Unmatching number of coordinates')\n",
    "            coords = (x1 + x2 for x1, x2 in zip(self, other))\n",
    "            return cls(*coords)\n",
    "        return NotImplemented"
   ]
  },
  {
   "cell_type": "code",
   "execution_count": null,
   "metadata": {},
   "outputs": [],
   "source": [
    "Point(1,1) + Point(2,2)"
   ]
  },
  {
   "cell_type": "code",
   "execution_count": null,
   "metadata": {},
   "outputs": [],
   "source": [
    "Point(1,1).__add__(Point(2, 2))"
   ]
  },
  {
   "cell_type": "code",
   "execution_count": null,
   "metadata": {},
   "outputs": [],
   "source": [
    "Point.__add__(Point(1,1), Point(2, 2))"
   ]
  },
  {
   "cell_type": "code",
   "execution_count": null,
   "metadata": {},
   "outputs": [],
   "source": [
    "Point(1, 1, 1) + 2"
   ]
  },
  {
   "cell_type": "code",
   "execution_count": null,
   "metadata": {},
   "outputs": [],
   "source": [
    "Point(1, 1) + '2'"
   ]
  },
  {
   "cell_type": "markdown",
   "metadata": {},
   "source": [
    "We want to be a able to compare `Point`s:"
   ]
  },
  {
   "cell_type": "code",
   "execution_count": null,
   "metadata": {},
   "outputs": [],
   "source": [
    "Point(1,2) == Point(2,1)"
   ]
  },
  {
   "cell_type": "code",
   "execution_count": null,
   "metadata": {},
   "outputs": [],
   "source": [
    "p1 = Point(1,2)\n",
    "p2 = Point(1,2)\n",
    "p1 == p2"
   ]
  },
  {
   "cell_type": "code",
   "execution_count": null,
   "metadata": {},
   "outputs": [],
   "source": [
    "p = Point(0, 0)\n",
    "p2 = p\n",
    "p == p2"
   ]
  },
  {
   "cell_type": "code",
   "execution_count": null,
   "metadata": {},
   "outputs": [],
   "source": [
    "Point(1,2) > Point(2,1)"
   ]
  },
  {
   "cell_type": "code",
   "execution_count": null,
   "metadata": {},
   "outputs": [],
   "source": [
    "print(dir(object))"
   ]
  },
  {
   "cell_type": "code",
   "execution_count": null,
   "metadata": {},
   "outputs": [],
   "source": [
    "o1 = object()\n",
    "o2 = object()\n",
    "o1.__gt__(o2)"
   ]
  },
  {
   "cell_type": "markdown",
   "metadata": {},
   "source": [
    "So the default `==` checks by identity and `>` is not defined. \n",
    "\n",
    "We should overload both these operators by implementing `__eq__` and `__gt__`:"
   ]
  },
  {
   "cell_type": "code",
   "execution_count": null,
   "metadata": {},
   "outputs": [],
   "source": [
    "# from functools import total_ordering\n",
    "\n",
    "# @total_ordering\n",
    "class Point:\n",
    "    \"\"\"A point in a Euclidian space.\n",
    "    \"\"\"\n",
    "    \n",
    "    def __init__(self, *coords):        \n",
    "        self.coords = tuple(float(x) for x in coords)\n",
    "    \n",
    "    def __iter__(self):\n",
    "        return iter(self.coords)\n",
    "    \n",
    "    def __len__(self):\n",
    "        return len(self.coords)\n",
    "     \n",
    "    def __repr__(self):\n",
    "        # what a programmer wants to see, should work with eval\n",
    "        formatted_coords = (f'{x!r}' for x in self) # format each coordinate with its own __repr__ method\n",
    "        formatted_coords = ', '.join(formatted_coords) # join (reduce) all coordinates      \n",
    "        cls_name = type(self).__name__ # the name of this class - we get it dynamically so that it will work with inheritance\n",
    "        return f'{cls_name}({formatted_coords})'\n",
    "    \n",
    "    def __add__(self, other):\n",
    "        cls = type(self)\n",
    "        if isinstance(other, numbers.Real):\n",
    "            return cls(*(x + other for x in self))\n",
    "        if isinstance(other, type(self)):\n",
    "            if len(self) != len(other):\n",
    "                raise ValueError('Unmatching number of coordinates')\n",
    "            return cls(*(x1 + x2 for x1, x2 in zip(self, other)))\n",
    "        return NotImplemented\n",
    "    \n",
    "    def __eq__(self, other):\n",
    "        return tuple(self) == tuple(other)\n",
    "    \n",
    "    def __gt__(self, other):\n",
    "        if len(self) != len(other):\n",
    "            raise ValueError('Unmatching number of coordinates') # Getting repetitive... How would you refactor this?\n",
    "        comparisons = (z1 > z2 for z1, z2 in zip(self, other))\n",
    "        return all(comparisons)    "
   ]
  },
  {
   "cell_type": "markdown",
   "metadata": {},
   "source": [
    "First we check if two points are equal:"
   ]
  },
  {
   "cell_type": "code",
   "execution_count": null,
   "metadata": {},
   "outputs": [],
   "source": [
    "Point(1,0) == Point(1,2)"
   ]
  },
  {
   "cell_type": "code",
   "execution_count": null,
   "metadata": {},
   "outputs": [],
   "source": [
    "Point(1,0,0,1) == Point(1,0,0,1)"
   ]
  },
  {
   "cell_type": "markdown",
   "metadata": {},
   "source": [
    "Then if one is *strictly* smaller than the other:"
   ]
  },
  {
   "cell_type": "code",
   "execution_count": null,
   "metadata": {},
   "outputs": [],
   "source": [
    "Point(2,0) > Point(1,2)"
   ]
  },
  {
   "cell_type": "code",
   "execution_count": null,
   "metadata": {},
   "outputs": [],
   "source": [
    "Point(5,6) > Point(1,2)"
   ]
  },
  {
   "cell_type": "markdown",
   "metadata": {},
   "source": [
    "Note that by implementing `==` and `>` we have logically defined other comparison operators:"
   ]
  },
  {
   "cell_type": "code",
   "execution_count": null,
   "metadata": {},
   "outputs": [],
   "source": [
    "Point(5,6) < Point(1,4)"
   ]
  },
  {
   "cell_type": "code",
   "execution_count": null,
   "metadata": {},
   "outputs": [],
   "source": [
    "Point(5,6) <= Point(1,2)"
   ]
  },
  {
   "cell_type": "markdown",
   "metadata": {},
   "source": [
    "The addition operator `+` returns a **new instance**."
   ]
  },
  {
   "cell_type": "code",
   "execution_count": null,
   "metadata": {},
   "outputs": [],
   "source": [
    "p = Point(1, 1, 4)\n",
    "p2 = p\n",
    "p += Point(1, 2, 0)\n",
    "print(p)\n",
    "print(p2)"
   ]
  },
  {
   "cell_type": "markdown",
   "metadata": {},
   "source": [
    "Next we will write a method that implements `+=` efficiently, so that instead of returning a new instance, it changes the current instance **in-place**. This is called an [augmented arithmetic assignments](https://docs.python.org/3.5/reference/datamodel.html?highlight=__iadd__#object.__iadd__). These methods should return their result."
   ]
  },
  {
   "cell_type": "code",
   "execution_count": null,
   "metadata": {},
   "outputs": [],
   "source": [
    "class Point:\n",
    "    \"\"\"A point in a Euclidian space.\n",
    "    \"\"\"\n",
    "    \n",
    "    def __init__(self, *coords):        \n",
    "        self.coords = tuple(float(x) for x in coords)\n",
    "    \n",
    "    def __iter__(self):\n",
    "        return iter(self.coords)\n",
    "    \n",
    "    def __len__(self):\n",
    "        return len(self.coords)\n",
    "        \n",
    "    def __repr__(self):\n",
    "        # what a programmer wants to see, should work with eval\n",
    "        formatted_coords = (f'{x!r}' for x in self) # format each coordinate with its own __repr__ method\n",
    "        formatted_coords = ', '.join(formatted_coords) # join (reduce) all coordinates      \n",
    "        cls_name = type(self).__name__ # the name of this class - we get it dynamically so that it will work with inheritance\n",
    "        return f'{cls_name}({formatted_coords}) id:{id(self)}'\n",
    "    \n",
    "    def __add__(self, other):\n",
    "        cls = type(self)\n",
    "        if isinstance(other, numbers.Real):\n",
    "            return cls(*(x + other for x in self))\n",
    "        if isinstance(other, type(self)):\n",
    "            if len(self) != len(other):\n",
    "                raise ValueError('Unmatching number of coordinates')\n",
    "            return cls(*(x1 + x2 for x1, x2 in zip(self, other)))\n",
    "        return NotImplemented\n",
    "    \n",
    "    def __eq__(self, other):\n",
    "        return tuple(self) == tuple(other)\n",
    "    \n",
    "    def __gt__(self, other):\n",
    "        if len(self) != len(other):\n",
    "            raise ValueError('Unmatching number of coordinates')\n",
    "        return all(z1 > z2 for z1, z2 in zip(self, other))    \n",
    "    \n",
    "    def __iadd__(self, other):\n",
    "        if isinstance(other, numbers.Real):\n",
    "            self.coords = tuple(x + other for x in self)\n",
    "            return self\n",
    "        if isinstance(other, type(self)):\n",
    "            if len(self) != len(other):\n",
    "                raise ValueError('Unmatching number of coordinates')\n",
    "            self.coords = tuple(x1 + x2 for x1, x2 in zip(self, other))\n",
    "            return self\n",
    "        return NotImplemented"
   ]
  },
  {
   "cell_type": "code",
   "execution_count": null,
   "metadata": {},
   "outputs": [],
   "source": [
    "p = Point(1, 1)\n",
    "p2 = p\n",
    "print(repr(p))\n",
    "print(repr(p2))\n",
    "p += Point(1,2)\n",
    "print(repr(p))\n",
    "print(repr(p2))"
   ]
  },
  {
   "cell_type": "markdown",
   "metadata": {},
   "source": [
    "Let's write a method that given many points, checks if the current point is more extreme than the other points.\n",
    "\n",
    "**Note:** specifying a function argument with a `*` before its name says that we can give zero or more values and they will be packed in a `tuple`."
   ]
  },
  {
   "cell_type": "code",
   "execution_count": null,
   "metadata": {},
   "outputs": [],
   "source": [
    "class Point:\n",
    "    \"\"\"A point in a Euclidian space.\n",
    "    \"\"\"\n",
    "    \n",
    "    def __init__(self, *coords):        \n",
    "        self.coords = tuple(float(x) for x in coords)\n",
    "    \n",
    "    def __iter__(self):\n",
    "        return iter(self.coords)\n",
    "    \n",
    "    def __len__(self):\n",
    "        return len(self.coords)\n",
    "     \n",
    "    def __repr__(self):\n",
    "        # what a programmer wants to see, should work with eval\n",
    "        formatted_coords = (f'{x!r}' for x in self) # format each coordinate with its own __repr__ method\n",
    "        formatted_coords = ', '.join(formatted_coords) # join (reduce) all coordinates      \n",
    "        cls_name = type(self).__name__ # the name of this class - we get it dynamically so that it will work with inheritance\n",
    "        return f'{cls_name}({formatted_coords})'\n",
    "    \n",
    "    def __add__(self, other):\n",
    "        cls = type(self)\n",
    "        if isinstance(other, numbers.Real):\n",
    "            return cls(*(x + other for x in self))\n",
    "        if isinstance(other, type(self)):\n",
    "            if len(self) != len(other):\n",
    "                raise ValueError('Unmatching number of coordinates')\n",
    "            return cls(*(x1 + x2 for x1, x2 in zip(self, other)))\n",
    "        return NotImplemented\n",
    "    \n",
    "    def __eq__(self, other):\n",
    "        return tuple(self) == tuple(other)\n",
    "    \n",
    "    def __gt__(self, other):\n",
    "        if len(self) != len(other):\n",
    "            raise ValueError('Unmatching number of coordinates')\n",
    "        return all(z1 > z2 for z1, z2 in zip(self, other))    \n",
    "    \n",
    "    def __iadd__(self, other):\n",
    "        if isinstance(other, numbers.Real):\n",
    "            self.coords = tuple(x + other for x in self)\n",
    "            return self\n",
    "        if isinstance(other, type(self)):\n",
    "            if len(self) != len(other):\n",
    "                raise ValueError('Unmatching number of coordinates')\n",
    "            self.coords = tuple(x1 + x2 for x1, x2 in zip(self, other))\n",
    "            return self\n",
    "        return NotImplemented\n",
    "    \n",
    "    def is_extreme(self, *points):\n",
    "        return all(self > point for point in points)"
   ]
  },
  {
   "cell_type": "code",
   "execution_count": null,
   "metadata": {},
   "outputs": [],
   "source": [
    "p = Point(5, 6)\n",
    "p.is_extreme(Point(1,1))"
   ]
  },
  {
   "cell_type": "code",
   "execution_count": null,
   "metadata": {},
   "outputs": [],
   "source": [
    "p.is_extreme(Point(1,1), Point(2,4), Point(4,2))"
   ]
  },
  {
   "cell_type": "markdown",
   "metadata": {},
   "source": [
    "We can also use the method via the class instead of the instance, and give the instance of interest (the one that we want to know if it is the extreme) as the first argument `self`. Similarly, we can either do `'hi'.upper()` or `str.upper('hi')`."
   ]
  },
  {
   "cell_type": "code",
   "execution_count": null,
   "metadata": {},
   "outputs": [],
   "source": [
    "Point.is_extreme(Point(7,8), Point(1,1), Point(4,5), Point(2,3))\n",
    "\n",
    "#Point(7,8).is_extreme(Point(1,1), Point(4,5), Point(2,3))"
   ]
  },
  {
   "cell_type": "markdown",
   "metadata": {},
   "source": [
    "Let's add a method to return a polar representation of `Point`. We'll need to calculate the magnitude, which we might as well do with the `__abs__` method (corresponding to `abs`) and an `angle` method:"
   ]
  },
  {
   "cell_type": "code",
   "execution_count": null,
   "metadata": {},
   "outputs": [],
   "source": [
    "i = -5\n",
    "abs(i)"
   ]
  },
  {
   "cell_type": "code",
   "execution_count": null,
   "metadata": {},
   "outputs": [],
   "source": [
    "abs(Point(1, 3))"
   ]
  },
  {
   "cell_type": "code",
   "execution_count": null,
   "metadata": {},
   "outputs": [],
   "source": [
    "class Point:\n",
    "    \"\"\"A point in a Euclidian space.\n",
    "    \"\"\"\n",
    "    \n",
    "    def __init__(self, *coords):        \n",
    "        self.coords = tuple(float(x) for x in coords)\n",
    "    \n",
    "    def __iter__(self):\n",
    "        return iter(self.coords)\n",
    "    \n",
    "    def __len__(self):\n",
    "        return len(self.coords)\n",
    "     \n",
    "    def __str__(self):\n",
    "        return f\"({', '.join(str(x) for x in self)})\"\n",
    "    \n",
    "    def __repr__(self):\n",
    "        # what a programmer wants to see, should work with eval\n",
    "        formatted_coords = (f'{x!r}' for x in self) # format each coordinate with its own __repr__ method\n",
    "        formatted_coords = ', '.join(formatted_coords) # join (reduce) all coordinates      \n",
    "        cls_name = type(self).__name__ # the name of this class - we get it dynamically so that it will work with inheritance\n",
    "        return f'{cls_name}({formatted_coords})'\n",
    "    \n",
    "    def __add__(self, other):\n",
    "        cls = type(self)\n",
    "        if isinstance(other, numbers.Real):\n",
    "            return cls(*(x + other for x in self))\n",
    "        if isinstance(other, type(self)):\n",
    "            if len(self) != len(other):\n",
    "                raise ValueError('Unmatching number of coordinates')\n",
    "            return cls(*(x1 + x2 for x1, x2 in zip(self, other)))\n",
    "        return NotImplemented\n",
    "    \n",
    "    def __eq__(self, other):\n",
    "        return tuple(self) == tuple(other)\n",
    "    \n",
    "    def __gt__(self, other):\n",
    "        if len(self) != len(other):\n",
    "            raise ValueError('Unmatching number of coordinates')\n",
    "        return all(z1 > z2 for z1, z2 in zip(self, other))    \n",
    "    \n",
    "    def __iadd__(self, other):\n",
    "        if isinstance(other, numbers.Real):\n",
    "            self.coords = tuple(x + other for x in self)\n",
    "            return self\n",
    "        if isinstance(other, type(self)):\n",
    "            if len(self) != len(other):\n",
    "                raise ValueError('Unmatching number of coordinates')\n",
    "            self.coords = tuple(x1 + x2 for x1, x2 in zip(self, other))\n",
    "            return self\n",
    "        return NotImplemented\n",
    "    \n",
    "    def is_extreme(self, *points):\n",
    "        return all(self > point for point in points)\n",
    "    \n",
    "    def __abs__(self):\n",
    "        return math.hypot(*self)\n",
    "    \n",
    "    def angle(self):\n",
    "        if len(self) == 2:\n",
    "            x, y = self\n",
    "            return math.atan2(y, x)\n",
    "        raise NotImplementedError('angle is only implemented for 2D points')\n",
    "\n",
    "    def to_polar(self):\n",
    "        if len(self) == 2:\n",
    "            return abs(self), self.angle()\n",
    "        raise NotImplementedError('to_polar is only implemented for 2D points')"
   ]
  },
  {
   "cell_type": "code",
   "execution_count": null,
   "metadata": {},
   "outputs": [],
   "source": [
    "for p in (Point(1, 0), Point(-1, 0), Point(1, 1), Point(2, 2)):\n",
    "    distance, angle = p.to_polar()\n",
    "    print(f'Cartesian: {p}\\tPolar: ({distance:.3f}, {angle:.3f})')"
   ]
  },
  {
   "cell_type": "markdown",
   "metadata": {},
   "source": [
    "If we have `topolar` that returns a tuple of polar coordinates, we might want to have `frompolar` that creates a new instance from a tuple of polar coordinates. This is called an **alternative constructor** and must be implemented as a **class method** as we don't have an instance at the time we call the method:"
   ]
  },
  {
   "cell_type": "code",
   "execution_count": null,
   "metadata": {},
   "outputs": [],
   "source": [
    "class Point:\n",
    "    \"\"\"A point in a Euclidian space.\n",
    "    \"\"\"\n",
    "    \n",
    "    def __init__(self, *coords):\n",
    "        self.coords = tuple(float(x) for x in coords)\n",
    "    \n",
    "    def __iter__(self):\n",
    "        return iter(self.coords)\n",
    "    \n",
    "    def __len__(self):\n",
    "        return len(self.coords)\n",
    "     \n",
    "    def __repr__(self):\n",
    "        # what a programmer wants to see, should work with eval\n",
    "        formatted_coords = (f'{x!r}' for x in self) # format each coordinate with its own __repr__ method\n",
    "        formatted_coords = ', '.join(formatted_coords) # join (reduce) all coordinates      \n",
    "        cls_name = type(self).__name__ # the name of this class - we get it dynamically so that it will work with inheritance\n",
    "        return f'{cls_name}({formatted_coords})'\n",
    "    \n",
    "    def __add__(self, other):\n",
    "        cls = type(self)\n",
    "        if isinstance(other, numbers.Real):\n",
    "            return cls(*(x + other for x in self))\n",
    "        if isinstance(other, type(self)):\n",
    "            if len(self) != len(other):\n",
    "                raise ValueError('Unmatching number of coordinates')\n",
    "            return cls(*(x1 + x2 for x1, x2 in zip(self, other)))\n",
    "        return NotImplemented\n",
    "    \n",
    "    def __eq__(self, other):\n",
    "        return tuple(self) == tuple(other)\n",
    "    \n",
    "    def __gt__(self, other):\n",
    "        if len(self) != len(other):\n",
    "            raise ValueError('Unmatching number of coordinates')\n",
    "        return all(z1 > z2 for z1, z2 in zip(self, other))    \n",
    "    \n",
    "    def __iadd__(self, other):\n",
    "        if isinstance(other, numbers.Real):\n",
    "            self.coords = tuple(x + other for x in self)\n",
    "            return self\n",
    "        if isinstance(other, type(self)):\n",
    "            if len(self) != len(other):\n",
    "                raise ValueError('Unmatching number of coordinates')\n",
    "            self.coords = tuple(x1 + x2 for x1, x2 in zip(self, other))\n",
    "            return self\n",
    "        return NotImplemented\n",
    "    \n",
    "    def is_extreme(self, *points):\n",
    "        return all(self > point for point in points)\n",
    "    \n",
    "    def __abs__(self):\n",
    "        if len(self) == 2:\n",
    "            return math.hypot(*self) # optimized for 2D\n",
    "        return math.sqrt(sum(x*x for x in self))\n",
    "    \n",
    "    def angle(self):\n",
    "        if len(self) == 2:\n",
    "            x, y = self\n",
    "            return math.atan2(y, x)\n",
    "        raise NotImplementedError('angle is only implemented for 2D points')\n",
    "\n",
    "    def to_polar(self):\n",
    "        if len(self) == 2:\n",
    "            return abs(self), self.angle()\n",
    "        raise NotImplementedError('to_polar is only implemented for 2D points')\n",
    "    \n",
    "    def __format__(self, spec):\n",
    "        formatted_coords = (f'{x:{spec}}' for x in self) # format each coordinate with its own __repr__ method\n",
    "        formatted_coords = ', '.join(formatted_coords) # join (reduce) all coordinates      \n",
    "        cls_name = type(self).__name__ # the name of this class - we get it dynamically so that it will work with inheritance\n",
    "        return f'{cls_name}({formatted_coords})'\n",
    "        # How would you get rid of the code duplication?...\n",
    "    \n",
    "    @classmethod\n",
    "    def from_polar(cls, radius, angle):\n",
    "        x = radius * math.cos(angle)\n",
    "        y = radius * math.sin(angle)\n",
    "        return cls(x, y)\n",
    "        \n",
    "    @staticmethod\n",
    "    def some_static(a, b):\n",
    "        print(a, b)"
   ]
  },
  {
   "cell_type": "code",
   "execution_count": null,
   "metadata": {},
   "outputs": [],
   "source": [
    "print(f'{Point.from_polar(1, math.pi)=:.3f}')"
   ]
  },
  {
   "cell_type": "code",
   "execution_count": null,
   "metadata": {},
   "outputs": [],
   "source": [
    "p1 = Point(1, math.pi)\n",
    "p2 = Point.from_polar(*p1.to_polar())\n",
    "p1, p2, p1 == p2"
   ]
  },
  {
   "cell_type": "markdown",
   "metadata": {},
   "source": [
    "We got a `False` because there is some numerical error."
   ]
  },
  {
   "cell_type": "code",
   "execution_count": null,
   "metadata": {},
   "outputs": [],
   "source": [
    "Point.some_static(1, 2)"
   ]
  },
  {
   "cell_type": "code",
   "execution_count": null,
   "metadata": {},
   "outputs": [],
   "source": [
    "p = Point(0, 0)\n",
    "p.some_static(1, 2)"
   ]
  },
  {
   "cell_type": "code",
   "execution_count": null,
   "metadata": {},
   "outputs": [],
   "source": [
    "Point.from_polar(1, 2)\n",
    "Point.to_polar()"
   ]
  },
  {
   "cell_type": "markdown",
   "metadata": {},
   "source": [
    "We might want to make our `Point` immutable. This is easy enough, we just need to change our `coords` to `__coords` to convey that it should not be used directly, and add `coords` property. We shouldn't implement `__iadd__`, though, in this case."
   ]
  },
  {
   "cell_type": "code",
   "execution_count": null,
   "metadata": {},
   "outputs": [],
   "source": [
    "class Point:\n",
    "    \"\"\"A point in a Euclidian space.\n",
    "    \"\"\"\n",
    "    \n",
    "    def __init__(self, *coords):\n",
    "        # Notice the __ before coords\n",
    "        self.__coords = tuple(float(x) for x in coords)\n",
    "    \n",
    "    # If p is a Point, p.coords will invoke the getter defined by the @property decorator.\n",
    "    # We can also define a setter (@coords.setter) and a deleter (@coords.deleter).\n",
    "    # p.coords = value will invoke the setter, and del p.coords the deleter.\n",
    "    @property\n",
    "    def coords(self):\n",
    "        return self.__coords\n",
    "    \n",
    "    def __iter__(self):\n",
    "        return iter(self.coords)\n",
    "    \n",
    "    def __len__(self):\n",
    "        return len(self.coords)\n",
    "     \n",
    "    def __repr__(self):\n",
    "        # what a programmer wants to see, should work with eval\n",
    "        formatted_coords = (f'{x!r}' for x in self) # format each coordinate with its own __repr__ method\n",
    "        formatted_coords = ', '.join(formatted_coords) # join (reduce) all coordinates      \n",
    "        cls_name = type(self).__name__ # the name of this class - we get it dynamically so that it will work with inheritance\n",
    "        return f'{cls_name}({formatted_coords})'\n",
    "    \n",
    "    def __add__(self, other):\n",
    "        cls = type(self)\n",
    "        if isinstance(other, numbers.Real):\n",
    "            return cls(*(x + other for x in self))\n",
    "        if isinstance(other, type(self)):\n",
    "            if len(self) != len(other):\n",
    "                raise ValueError('Unmatching number of coordinates')\n",
    "            return cls(*(x1 + x2 for x1, x2 in zip(self, other)))\n",
    "        return NotImplemented\n",
    "    \n",
    "    def __eq__(self, other):\n",
    "        return tuple(self) == tuple(other)\n",
    "    \n",
    "    def __gt__(self, other):\n",
    "        if len(self) != len(other):\n",
    "            raise ValueError('Unmatching number of coordinates')\n",
    "        return all(z1 > z2 for z1, z2 in zip(self, other))    \n",
    "    \n",
    "#     def __iadd__(self, other):\n",
    "#         if isinstance(other, numbers.Real):\n",
    "#             self.__coords = tuple(x + other for x in self)\n",
    "#             return self\n",
    "#         if isinstance(other, type(self)):\n",
    "#             if len(self) != len(other):\n",
    "#                 raise ValueError('Unmatching number of coordinates')\n",
    "#             self.__coords = tuple(x1 + x2 for x1, x2 in zip(self, other))\n",
    "#             return self\n",
    "#         return NotImplemented\n",
    "    \n",
    "    def is_extreme(self, *points):\n",
    "        return all(self > point for point in points)\n",
    "    \n",
    "    def __abs__(self):\n",
    "        if len(self) == 2:\n",
    "            return math.hypot(*self) # optimized for 2D\n",
    "        return math.sqrt(sum(x*x for x in self))\n",
    "    \n",
    "    def angle(self):\n",
    "        if len(self) == 2:\n",
    "            x, y = self\n",
    "            return math.atan2(y, x)\n",
    "        raise NotImplementedError('angle is only implemented for 2D points')\n",
    "\n",
    "    def to_polar(self):\n",
    "        if len(self) == 2:\n",
    "            return abs(self), self.angle()\n",
    "        raise NotImplementedError('to_polar is only implemented for 2D points')\n",
    "\n",
    "    # Our point can be converted into a complex number\n",
    "    def __complex__(self):\n",
    "        if len(self) == 2:\n",
    "            return complex(*self)\n",
    "        raise NotImplementedError('conversion to is only implemented only for 2D point')\n",
    "        \n",
    "    @classmethod\n",
    "    def from_polar(cls, radius, angle):\n",
    "        x = radius * math.cos(angle)\n",
    "        y = radius * math.sin(angle)\n",
    "        return cls(x, y)\n",
    "        \n",
    "    # def __hash__(self):\n",
    "    #     return hash(repr(self))"
   ]
  },
  {
   "cell_type": "code",
   "execution_count": null,
   "metadata": {},
   "outputs": [],
   "source": [
    "p = Point(1, 1)\n",
    "print(p)\n",
    "p.coords"
   ]
  },
  {
   "cell_type": "markdown",
   "metadata": {},
   "source": [
    "Note that we didn't have to change any other method (except remove `__iadd__`) thanks to the `@property` decorator.\n",
    "\n",
    "However, we cannot directly change `coords`, making our class immutable, at least by convention:"
   ]
  },
  {
   "cell_type": "code",
   "execution_count": null,
   "metadata": {},
   "outputs": [],
   "source": [
    "p.coords = (2, 3)"
   ]
  },
  {
   "cell_type": "code",
   "execution_count": null,
   "metadata": {},
   "outputs": [],
   "source": [
    "print(p)\n",
    "p._Point__coords = (2.0, 3.0)\n",
    "print(p)"
   ]
  },
  {
   "cell_type": "code",
   "execution_count": null,
   "metadata": {},
   "outputs": [],
   "source": [
    "d = {p: \"some_value\"}\n",
    "print(d)"
   ]
  },
  {
   "cell_type": "markdown",
   "metadata": {},
   "source": [
    "We can also define the `__getitem__` method so that we can get specific coordinates (we'll not define the `__setitem__` to keep the class \"immutable\", but of course this can be done).\n",
    "\n",
    "By having `__len__` and `__getitem__` we are implementing the *sequence protocol*, and therefore we get `__iter__` and `__reversed__` for free, so we can throw `__iter__` away (although we might want to keep it if we think our implementation is better).\n",
    "\n",
    "We can also define `x`, `y`, and `z` properties as aliases for the first 3 coordinates using properties."
   ]
  },
  {
   "cell_type": "code",
   "execution_count": null,
   "metadata": {},
   "outputs": [],
   "source": [
    "class Point:\n",
    "    \"\"\"A point in a Euclidian space.\n",
    "    \"\"\"\n",
    "    \n",
    "    def __init__(self, *coords):        \n",
    "        self.__coords = tuple(float(x) for x in coords)\n",
    "    \n",
    "    @property\n",
    "    def coords(self):\n",
    "        return self.__coords\n",
    "\n",
    "    def __getitem__(self, key):\n",
    "        return self.coords[key]\n",
    "\n",
    "    @property\n",
    "    def x(self):\n",
    "        return self[0]\n",
    "\n",
    "    @property\n",
    "    def y(self):\n",
    "        return self[1]\n",
    "    \n",
    "    @property\n",
    "    def z(self):\n",
    "        return self[2]\n",
    "\n",
    "    def __len__(self):\n",
    "        return len(self.coords)\n",
    "     \n",
    "    def __repr__(self):\n",
    "        # what a programmer wants to see, should work with eval\n",
    "        formatted_coords = (f'{x!r}' for x in self) # format each coordinate with its own __repr__ method\n",
    "        formatted_coords = ', '.join(formatted_coords) # join (reduce) all coordinates      \n",
    "        cls_name = type(self).__name__ # the name of this class - we get it dynamically so that it will work with inheritance\n",
    "        return f'{cls_name}({formatted_coords})'\n",
    "    \n",
    "    def __add__(self, other):\n",
    "        cls = type(self)\n",
    "        if isinstance(other, numbers.Real):\n",
    "            return cls(*(x + other for x in self))\n",
    "        if isinstance(other, type(self)):\n",
    "            if len(self) != len(other):\n",
    "                raise ValueError('Unmatching number of coordinates')\n",
    "            return cls(*(x1 + x2 for x1, x2 in zip(self, other)))\n",
    "        return NotImplemented\n",
    "    \n",
    "    def __eq__(self, other):\n",
    "        return tuple(self) == tuple(other)\n",
    "    \n",
    "    def __gt__(self, other):\n",
    "        if len(self) != len(other):\n",
    "            raise ValueError('Unmatching number of coordinates')\n",
    "        return all(z1 > z2 for z1, z2 in zip(self, other))    \n",
    "    \n",
    "    def __iadd__(self, other):\n",
    "        if isinstance(other, numbers.Real):\n",
    "            self._coords = tuple(x + other for x in self)\n",
    "            return self\n",
    "        if isinstance(other, type(self)):\n",
    "            if len(self) != len(other):\n",
    "                raise ValueError('Unmatching number of coordinates')\n",
    "            self._coords = tuple(x1 + x2 for x1, x2 in zip(self, other))\n",
    "            return self\n",
    "        return NotImplemented\n",
    "    \n",
    "    def is_extreme(self, *points):\n",
    "        return all(self > point for point in points)\n",
    "    \n",
    "    def __abs__(self):\n",
    "        if len(self) == 2:\n",
    "            return math.hypot(*self) # optimized for 2D\n",
    "        return math.sqrt(sum(x*x for x in self))\n",
    "    \n",
    "    def angle(self):\n",
    "        if len(self) == 2:\n",
    "            x, y = self\n",
    "            return math.atan2(y, x)\n",
    "        raise NotImplementedError('angle is only implemented for 2D points')\n",
    "\n",
    "    def to_polar(self):\n",
    "        if len(self) == 2:\n",
    "            return abs(self), self.angle()\n",
    "        raise NotImplementedError('to_polar is only implemented for 2D points')\n",
    "    \n",
    "    def __complex__(self):\n",
    "        if len(self) == 2:\n",
    "            return complex(*self)\n",
    "        raise NotImplementedError('conversion to is only implemented only for 2D point')\n",
    "        \n",
    "    @classmethod\n",
    "    def from_polar(cls, radius, angle):\n",
    "        x = radius * math.cos(angle)\n",
    "        y = radius * math.sin(angle)\n",
    "        return cls(x, y)"
   ]
  },
  {
   "cell_type": "code",
   "execution_count": null,
   "metadata": {},
   "outputs": [],
   "source": [
    "p = Point(1, 2, 3, 4, 5)\n",
    "p.coords"
   ]
  },
  {
   "cell_type": "code",
   "execution_count": null,
   "metadata": {},
   "outputs": [],
   "source": [
    "p[0], p[1]"
   ]
  },
  {
   "cell_type": "code",
   "execution_count": null,
   "metadata": {},
   "outputs": [],
   "source": [
    "p[-1]"
   ]
  },
  {
   "cell_type": "code",
   "execution_count": null,
   "metadata": {},
   "outputs": [],
   "source": [
    "p[10]"
   ]
  },
  {
   "cell_type": "code",
   "execution_count": null,
   "metadata": {},
   "outputs": [],
   "source": [
    "p[2:4]"
   ]
  },
  {
   "cell_type": "code",
   "execution_count": null,
   "metadata": {},
   "outputs": [],
   "source": [
    "p.x, p.y"
   ]
  },
  {
   "cell_type": "markdown",
   "metadata": {},
   "source": [
    "### `__dict__`\n",
    "\n",
    "An object attributes are saved in a dictionary called `__dict__`:"
   ]
  },
  {
   "cell_type": "code",
   "execution_count": null,
   "metadata": {},
   "outputs": [],
   "source": [
    "p.__dict__"
   ]
  },
  {
   "cell_type": "markdown",
   "metadata": {},
   "source": [
    "However, a dictionary has some overhead, and a more memory efficient way to save the attributes is done by defining the class attribute `__slots__`.\n",
    "\n",
    "Let's see an example for 2D point:"
   ]
  },
  {
   "cell_type": "code",
   "execution_count": null,
   "metadata": {},
   "outputs": [],
   "source": [
    "class RegularPoint:  \n",
    "    def __init__(self, x, y):        \n",
    "        self.x = float(x)\n",
    "        self.y = float(y)\n",
    "        \n",
    "    def __iter__(self):\n",
    "        yield self.x\n",
    "        yield self.y\n",
    "    \n",
    "    def __repr__(self):\n",
    "        return f'{type(self).__name__}({self.x}, {self.y})'\n",
    "    \n",
    "class EfficientPoint:\n",
    "    __slots__ = ('x', 'y')\n",
    "    \n",
    "    def __init__(self, x, y):        \n",
    "        self.x = float(x)\n",
    "        self.y = float(y)\n",
    "        \n",
    "    def __iter__(self):\n",
    "        yield self.x\n",
    "        yield self.y\n",
    "    \n",
    "    def __repr__(self):\n",
    "        return f'{type(self).__name__}({self.x}, {self.y})'"
   ]
  },
  {
   "cell_type": "code",
   "execution_count": null,
   "metadata": {},
   "outputs": [],
   "source": [
    "p_reg = RegularPoint(0, 0)\n",
    "p_eff = EfficientPoint(0, 0)"
   ]
  },
  {
   "cell_type": "code",
   "execution_count": null,
   "metadata": {},
   "outputs": [],
   "source": [
    "print(p_reg.__dict__)\n",
    "print(p_eff.__dict__)"
   ]
  },
  {
   "cell_type": "code",
   "execution_count": null,
   "metadata": {},
   "outputs": [],
   "source": [
    "p_reg.z = 10\n",
    "print(p_reg.z)"
   ]
  },
  {
   "cell_type": "code",
   "execution_count": null,
   "metadata": {},
   "outputs": [],
   "source": [
    "p_eff.z = 10"
   ]
  },
  {
   "cell_type": "markdown",
   "metadata": {},
   "source": [
    "We load [ipython_memory_usage](https://github.com/ianozsvald/ipython_memory_usage), a package that monitors memory usage inside the notebook."
   ]
  },
  {
   "cell_type": "code",
   "execution_count": null,
   "metadata": {},
   "outputs": [],
   "source": [
    "%pip install ipython_memory_usage\n",
    "%pip install psutil"
   ]
  },
  {
   "cell_type": "code",
   "execution_count": null,
   "metadata": {},
   "outputs": [],
   "source": [
    "import ipython_memory_usage.ipython_memory_usage as imu\n",
    "imu.start_watching_memory()"
   ]
  },
  {
   "cell_type": "code",
   "execution_count": null,
   "metadata": {},
   "outputs": [],
   "source": [
    "lst1 = [RegularPoint(0, 0) for _ in range(10_000_000)]"
   ]
  },
  {
   "cell_type": "code",
   "execution_count": null,
   "metadata": {},
   "outputs": [],
   "source": [
    "lst2 = [EfficientPoint(0, 0) for _ in range(10_000_000)]"
   ]
  },
  {
   "cell_type": "markdown",
   "metadata": {},
   "source": [
    "So we see that for $10^7$ points, the `__slots__` class requires ~2-fold less memory.\n",
    "\n",
    "We should now delete the references to release these GB of RAM with the `del` statement:"
   ]
  },
  {
   "cell_type": "code",
   "execution_count": null,
   "metadata": {},
   "outputs": [],
   "source": [
    "del lst1\n",
    "del lst2"
   ]
  },
  {
   "cell_type": "markdown",
   "metadata": {},
   "source": [
    "And finally stop monitoring the memory:"
   ]
  },
  {
   "cell_type": "code",
   "execution_count": null,
   "metadata": {},
   "outputs": [],
   "source": [
    "imu.stop_watching_memory()"
   ]
  },
  {
   "cell_type": "markdown",
   "metadata": {
    "jp-MarkdownHeadingCollapsed": true,
    "tags": []
   },
   "source": [
    "## `Rectangle` class\n",
    "\n",
    "We will implement two classes for rectangles, and compare the two implementations.\n",
    "\n",
    "### First implementation - two points\n",
    "\n",
    "The first implementation defines a rectangle by its lower left and upper right vertices."
   ]
  },
  {
   "cell_type": "code",
   "execution_count": null,
   "metadata": {},
   "outputs": [],
   "source": [
    "class Rectangle1:\n",
    "    \"\"\"Describe a parallel-axes rectangle by storing two points.\n",
    "    \n",
    "    Attributes\n",
    "    ----------\n",
    "    llv : Point\n",
    "        lower left vertex\n",
    "    urv : Point\n",
    "        upper right vertex\n",
    "    \"\"\"\n",
    "    \n",
    "    def __init__(self, lower_left_vertex, upper_right_vertex):        \n",
    "        self.llv = Point(*lower_left_vertex)\n",
    "        self.urv = Point(*upper_right_vertex)\n",
    "        assert self.llv < self.urv, \"Lower left vertex should be lower than upper right vertex\"\n",
    "        \n",
    "    def __repr__(self):\n",
    "        return f\"{type(self).__name__}({self.llv!r}, {self.urv!r})\"\n",
    "        \n",
    "    def __str__(self):\n",
    "        return f\"Rectangle with lower left {self.llv} and upper right {self.urv}\"\n",
    "\n",
    "    def dimensions(self):\n",
    "        height = self.urv.y - self.llv.y\n",
    "        width = self.urv.x - self.llv.x\n",
    "        return height, width\n",
    "    \n",
    "    def area(self):\n",
    "        height, width = self.dimensions()\n",
    "        area = height * width\n",
    "        return area\n",
    "       \n",
    "    def transpose(self):\n",
    "        \"\"\"Reflection with regard to the line passing through lower left vertex with angle 315 (-45) degrees\n",
    "        \"\"\"\n",
    "        height, width = self.dimensions()\n",
    "        urv = self.llv\n",
    "        llv = Point(self.llv.x - height, self.llv.y - width)\n",
    "        return type(self)(llv, urv)"
   ]
  },
  {
   "cell_type": "code",
   "execution_count": null,
   "metadata": {},
   "outputs": [],
   "source": [
    "rect = Rectangle1(Point(0, 0), Point(2, 1))\n",
    "print(rect)\n",
    "print(\"Area:\", rect.area())\n",
    "print(\"Dimensions:\", rect.dimensions())\n",
    "t_rect = rect.transpose()\n",
    "print(\"Transposed:\", t_rect)"
   ]
  },
  {
   "cell_type": "markdown",
   "metadata": {
    "jp-MarkdownHeadingCollapsed": true,
    "tags": []
   },
   "source": [
    "## Exercise\n",
    "\n",
    "Overload the `__contains__` method of the rectangle class so that given a point it will return `True` if the point is inside the rectangle and `False` otherwise."
   ]
  },
  {
   "cell_type": "code",
   "execution_count": null,
   "metadata": {},
   "outputs": [],
   "source": [
    "rect = Rectangle1(Point(0, 0), Point(1, 2))\n",
    "assert Point(0.5, 0.5) in rect\n",
    "assert Point(1, 2) not in rect\n",
    "assert Point(0, 2) not in rect\n",
    "assert Point(-0.5, 0.5) not in rect\n",
    "assert Point(2.5, 0.5) not in rect\n",
    "assert Point(0.5, 2.5) not in rect"
   ]
  },
  {
   "cell_type": "markdown",
   "metadata": {
    "jp-MarkdownHeadingCollapsed": true,
    "tags": []
   },
   "source": [
    "## Exercise\n",
    "\n",
    "The second implementation defines a rectangle by the lower left point, the height and the width.\n",
    "\n",
    "Define the exact same methods as in `Rectangle1`, with the same input and output, but  different inner representation / implementation."
   ]
  },
  {
   "cell_type": "code",
   "execution_count": null,
   "metadata": {},
   "outputs": [],
   "source": [
    "class Rectangle2:\n",
    "    \"\"\"Describe a parallel-axes rectangle by storing lower left point, height and width.\n",
    "    \n",
    "    Attributes\n",
    "    ----------\n",
    "    point : Point\n",
    "        lower left point\n",
    "    width : float\n",
    "        width\n",
    "    height : float\n",
    "        height\n",
    "    \"\"\"\n",
    "    pass"
   ]
  },
  {
   "cell_type": "code",
   "execution_count": null,
   "metadata": {},
   "outputs": [],
   "source": [
    "rect = Rectangle2(Point(0, 0), 1, 2)\n",
    "print(rect)\n",
    "print(\"Area:\", rect.area())\n",
    "print(\"Dimensions:\", rect.dimensions())\n",
    "t_rect = rect.transpose()\n",
    "print(\"Transposed:\", t_rect)"
   ]
  },
  {
   "cell_type": "markdown",
   "metadata": {},
   "source": [
    "# Inheritance\n",
    "\n",
    "Next we will see how inheritance works in Python.\n",
    "\n",
    "We define a `Door` class. The door is either open or closed, it can be opened or closed, and it can be represented as a string."
   ]
  },
  {
   "cell_type": "code",
   "execution_count": null,
   "metadata": {},
   "outputs": [],
   "source": [
    "class Door:\n",
    "    OPEN = 'open'\n",
    "    CLOSED = 'closed'\n",
    "    \n",
    "    def __init__(self, status=CLOSED):\n",
    "        self.__status = status\n",
    "        \n",
    "    @property\n",
    "    def status(self):\n",
    "        return self.__status\n",
    "\n",
    "    @status.setter\n",
    "    def status(self, new_status):\n",
    "        if new_status not in (self.OPEN, self.CLOSED):\n",
    "            raise ValueError(f'Status must be one of {(self.OPEN, self.CLOSED)}')\n",
    "        self.__status = new_status\n",
    "        return new_status\n",
    "    \n",
    "    def __repr__(self):\n",
    "        return f'{type(self).__name__}(status={self.status})'\n",
    "\n",
    "    def __str__(self):\n",
    "        return f'Door {id(self)} is {self.status}'\n",
    "    \n",
    "    def open(self):\n",
    "        self.status = self.OPEN\n",
    "        \n",
    "    def close(self):\n",
    "        self.status = self.CLOSED"
   ]
  },
  {
   "cell_type": "code",
   "execution_count": null,
   "metadata": {
    "scrolled": true
   },
   "outputs": [],
   "source": [
    "door = Door()\n",
    "print(door)\n",
    "door"
   ]
  },
  {
   "cell_type": "markdown",
   "metadata": {},
   "source": [
    "Now we want to define a secure door which only opens with a password.\n",
    "\n",
    "The secure door inherits from the regular door, but it makes some changes:\n",
    "\n",
    "- `__init__` accepts a password and saves it's hash as an attribute\n",
    "- `open` requires the password from the user to actually open the door\n",
    "\n",
    "The `super` function gives access to the parent class."
   ]
  },
  {
   "cell_type": "code",
   "execution_count": null,
   "metadata": {},
   "outputs": [],
   "source": [
    "from getpass import getpass\n",
    "from hashlib import sha224\n",
    "\n",
    "def digest(password):\n",
    "    \"\"\"Hash a password using sha224 algorithm.\n",
    "    \"\"\"\n",
    "    return sha224(password.encode('utf8')).hexdigest()"
   ]
  },
  {
   "cell_type": "code",
   "execution_count": null,
   "metadata": {},
   "outputs": [],
   "source": [
    "class SecurityDoor(Door):\n",
    "    \"\"\"A door that requires a password to open.\n",
    "    \"\"\"\n",
    "  \n",
    "    def __init__(self, password):\n",
    "        super().__init__()\n",
    "        self.secret = digest(password)\n",
    "        \n",
    "    def open(self):\n",
    "        if digest(getpass('What is the password?')) == self.secret:\n",
    "            #super(SecurityDoor, self).open()\n",
    "            super().open()\n",
    "        else:\n",
    "            print('Wrong password!')"
   ]
  },
  {
   "cell_type": "code",
   "execution_count": null,
   "metadata": {},
   "outputs": [],
   "source": [
    "secure_door = SecurityDoor('opensesame')\n",
    "secure_door.open()\n",
    "print(secure_door)\n",
    "secure_door.close()\n",
    "print(secure_door)"
   ]
  },
  {
   "cell_type": "markdown",
   "metadata": {},
   "source": [
    "# Method Resolution Order\n",
    "\n",
    "Remember the diamond problem in multiple inheritance?\n",
    "Let's see what happens in python."
   ]
  },
  {
   "cell_type": "markdown",
   "metadata": {},
   "source": [
    "<div>\n",
    "<img src=\"images/Diamond_inheritance.svg\" width=\"200\"/>\n",
    "</div>"
   ]
  },
  {
   "cell_type": "code",
   "execution_count": null,
   "metadata": {},
   "outputs": [],
   "source": [
    "class a:\n",
    "    value = 'a'\n",
    "        \n",
    "class b(a):\n",
    "    value = 'b'    \n",
    "\n",
    "class c(a):\n",
    "    value = 'c'    \n",
    "    \n",
    "class d(b, c):\n",
    "    pass\n",
    "    \n",
    "    \n",
    "d_obj = d()\n",
    "print(d_obj.value)"
   ]
  },
  {
   "cell_type": "code",
   "execution_count": null,
   "metadata": {},
   "outputs": [],
   "source": [
    "print(d.__mro__)"
   ]
  },
  {
   "cell_type": "markdown",
   "metadata": {},
   "source": [
    "Multiple inheritance works in Python. If there are clashes between names Python will search from the first parent to the last. \n",
    "\n",
    "However, multiple inheritance and inheritance in general are many times not neccessary and similar results can be produced by composition and delegation, without creating the complexity and constraints that inheritance induces.\n",
    "\n",
    "In the words of the famous [Design Patterns](https://en.wikipedia.org/wiki/Composition_over_inheritance) book:\n",
    "\n",
    "> Favor 'object composition' over 'class inheritance'."
   ]
  },
  {
   "cell_type": "markdown",
   "metadata": {},
   "source": [
    "# Composition and delegation\n",
    "\n",
    "Composition means that one object **explicitly delegates** some tasks to another object. \n",
    "\n",
    "Let's implement regular composition, which simply makes an object part of the other as an attribute:"
   ]
  },
  {
   "cell_type": "code",
   "execution_count": null,
   "metadata": {},
   "outputs": [],
   "source": [
    "class SecurityDoor:\n",
    "    \"\"\"A door that requires a password to open.\n",
    "    \"\"\"\n",
    "    \n",
    "    def __init__(self, password):\n",
    "        self.__door = Door(status=Door.CLOSED)\n",
    "        self.__secret = digest(password)\n",
    "    \n",
    "    @property\n",
    "    def secret(self):\n",
    "        return self.__secret\n",
    "    \n",
    "    @property\n",
    "    def door(self):\n",
    "        return self.__door\n",
    "    \n",
    "    def __repr__(self):\n",
    "        return repr(self.door)\n",
    "               \n",
    "    def open(self):\n",
    "        if digest(getpass('What is the password?')) == self.secret:\n",
    "            self.door.open()\n",
    "        else:\n",
    "            print('Wrong password!')\n",
    "        \n",
    "    def close(self):\n",
    "        self.door.close()"
   ]
  },
  {
   "cell_type": "code",
   "execution_count": null,
   "metadata": {},
   "outputs": [],
   "source": [
    "secure_door = SecurityDoor('opensesame')\n",
    "secure_door.open()\n",
    "print(secure_door)\n",
    "secure_door.close()\n",
    "print(secure_door)"
   ]
  },
  {
   "cell_type": "code",
   "execution_count": null,
   "metadata": {},
   "outputs": [],
   "source": [
    "secure_door.OPEN"
   ]
  },
  {
   "cell_type": "markdown",
   "metadata": {},
   "source": [
    "\n",
    "\n",
    "The primary goal of composition is to relax the coupling between objects. \n",
    "This little example shows that now `SecurityDoor` is an `object` and no more a `Door`, \n",
    "which means that the internal structure of `Door` is not copied. \n",
    "For this very simple example both `Door` and `SecurityDoor` are not big classes, \n",
    "but in a real system objects can very complex; \n",
    "this means that their allocation consumes a lot of memory and if a system contains thousands or millions of objects that could be an issue.\n",
    "\n",
    "The composed `SecurityDoor` has to redefine every attribute since the concept of delegation applies only to methods and not to attributes, doesn't it?\n",
    "\n",
    "**No.** Python allows objects manipulation and attribute access is one of the most useful. \n",
    "Accessing attributes is ruled by a special method called `__getattribute__` that is called whenever an attribute of the object is accessed. \n",
    "Overriding `__getattribute__`, however, is overkill; \n",
    "it is a very complex method, and, being called on every attribute access, any change makes the whole thing slower.\n",
    "\n",
    "The method we have to leverage to delegate attribute access is `__getattr__`, which is a special method that is called whenever the requested attribute is not found in the object. \n",
    "So basically it is the right place to dispatch all attribute and method access our object cannot handle. \n",
    "\n",
    "The previous example becomes:"
   ]
  },
  {
   "cell_type": "code",
   "execution_count": null,
   "metadata": {},
   "outputs": [],
   "source": [
    "class SecurityDoor:\n",
    "    \"\"\"A door that requires a password to open.\n",
    "    \"\"\"\n",
    "    \n",
    "    def __init__(self, password):\n",
    "        self.__door = Door(status=Door.CLOSED)\n",
    "        self.__secret = digest(password)\n",
    "              \n",
    "    @property\n",
    "    def door(self):\n",
    "        return self.__door\n",
    "    \n",
    "    @property\n",
    "    def secret(self):\n",
    "        return self.__secret\n",
    "            \n",
    "    def __repr__(self):\n",
    "        return repr(self.door)\n",
    "    \n",
    "    def open(self):\n",
    "        if digest(getpass('What is the password?')) == self.secret:\n",
    "            self.door.open()\n",
    "        else:\n",
    "            print('Wrong password!')\n",
    "        \n",
    "    # def close(self):\n",
    "    #     self.door.close()\n",
    "        \n",
    "    def __getattr__(self, attr):\n",
    "        return getattr(self.door, attr)"
   ]
  },
  {
   "cell_type": "code",
   "execution_count": null,
   "metadata": {},
   "outputs": [],
   "source": [
    "secure_door = SecurityDoor('opensesame')\n",
    "secure_door.open()\n",
    "print(secure_door)\n",
    "secure_door.close()\n",
    "print(secure_door)"
   ]
  },
  {
   "cell_type": "code",
   "execution_count": null,
   "metadata": {},
   "outputs": [],
   "source": [
    "secure_door.OPEN"
   ]
  },
  {
   "cell_type": "markdown",
   "metadata": {},
   "source": [
    "As this last example shows, delegating every member access through `__getattr__` is very simple. \n",
    "Pay attention to `getattr` which is different from `__getattr__`. \n",
    "The former is a built-in function that is equivalent to the dotted syntax, i.e. `getattr(obj, 'someattr')` is the same as `obj.someattr`, but you have to use it since the name of the attribute is contained in a string.\n",
    "\n",
    "**Composition provides a superior way to manage delegation** since it can selectively delegate the access, even mask some attributes or methods, while inheritance cannot. \n",
    "\n",
    "In Python you also avoid the memory problems that might arise with delegation when you put many objects inside another; Python handles everything through its reference, so the size of an attribute is constant and very limited."
   ]
  },
  {
   "cell_type": "markdown",
   "metadata": {},
   "source": [
    "## Exercise\n",
    "\n",
    "Define a new class, `RevolvingDoor`, which closes immediately after it is opened. Define it once with inheritance and once with composition."
   ]
  },
  {
   "cell_type": "code",
   "execution_count": null,
   "metadata": {},
   "outputs": [],
   "source": [
    "class RevolvingDoor(Door):\n",
    "    pass\n",
    "\n",
    "rdoor = RevolvingDoor()\n",
    "rdoor.open()\n",
    "print(rdoor)"
   ]
  },
  {
   "cell_type": "code",
   "execution_count": null,
   "metadata": {},
   "outputs": [],
   "source": [
    "class RevolvingDoor:\n",
    "    pass\n",
    "    \n",
    "rdoor = RevolvingDoor()\n",
    "rdoor.open()\n",
    "print(rdoor)"
   ]
  },
  {
   "cell_type": "markdown",
   "metadata": {},
   "source": [
    "# Polymorphism\n",
    "\n",
    "In Python, polymorphism is baked into the language, due to the **Duck typing** principle. We saw above how this relates to methods like `__add__`, `__sub__`, `__repr__`, and `__contains__`.\n",
    "\n",
    "Another example is a file object:"
   ]
  },
  {
   "cell_type": "code",
   "execution_count": null,
   "metadata": {},
   "outputs": [],
   "source": [
    "f = open(\"./data/crops.txt\")\n",
    "print(type(f))\n",
    "print(dir(f))\n",
    "f.close()"
   ]
  },
  {
   "cell_type": "markdown",
   "metadata": {},
   "source": [
    "Say we write a function that gets a file and returns all the lines that start with a given prefix (say, 'Am'):"
   ]
  },
  {
   "cell_type": "code",
   "execution_count": null,
   "metadata": {},
   "outputs": [],
   "source": [
    "def filter_by_prefix(file, prefix):\n",
    "    return [line.strip() for line in file if line.startswith(prefix)]\n",
    "\n",
    "with open('./data/crops.txt', 'r') as f:\n",
    "    print(filter_by_prefix(f, 'Am'))"
   ]
  },
  {
   "cell_type": "markdown",
   "metadata": {},
   "source": [
    "But now, say we want to read from `crops.txt.gz`, which is compressed with gzip. There is a module for reading gzipped files:"
   ]
  },
  {
   "cell_type": "code",
   "execution_count": null,
   "metadata": {},
   "outputs": [],
   "source": [
    "import gzip"
   ]
  },
  {
   "cell_type": "code",
   "execution_count": null,
   "metadata": {},
   "outputs": [],
   "source": [
    "gzfile = gzip.open('./data/crops.txt.gz' ,'r')\n",
    "print(type(gzfile))\n",
    "print(dir(gzfile))\n",
    "print(isinstance(gzfile, f.__class__))\n",
    "gzfile.close()"
   ]
  },
  {
   "cell_type": "markdown",
   "metadata": {},
   "source": [
    "You notice that this is a different type than a file we opened with `open` (that would be `f`), and the is not even inheritance relationship (we know this because `isinstace` returned `False`). \n",
    "\n",
    "But our function `filter_by_prefix` doesn't care about the type, all it wants is an **object that you can loop over with a `for`**: an iterable object that implements the `__iter__` method by either:\n",
    "\n",
    "- returning an iterator, which is an object that has a `next` method and stops iteration by raising a `StopIteration` exception, or \n",
    "- using the `yield` statement, which creates a generator.\n",
    "\n",
    "Indeed, `gzfile` implements `__iter__`:"
   ]
  },
  {
   "cell_type": "code",
   "execution_count": null,
   "metadata": {},
   "outputs": [],
   "source": [
    "hasattr(gzfile, '__iter__')"
   ]
  },
  {
   "cell_type": "markdown",
   "metadata": {},
   "source": [
    "So we can use it with our function:"
   ]
  },
  {
   "cell_type": "code",
   "execution_count": null,
   "metadata": {},
   "outputs": [],
   "source": [
    "with gzip.open('./data/crops.txt.gz', 'rt') as gzfile: # rt is for reading text\n",
    "    print(filter_by_prefix(gzfile, 'Am'))"
   ]
  },
  {
   "cell_type": "markdown",
   "metadata": {},
   "source": [
    "It doesn't even have to be a file. A list is just as good:"
   ]
  },
  {
   "cell_type": "code",
   "execution_count": null,
   "metadata": {},
   "outputs": [],
   "source": [
    "continents = ['America', 'Europe', 'Asia', 'Africa', 'Anarctica', 'Australia']\n",
    "print(filter_by_prefix(continents, 'Am'))"
   ]
  },
  {
   "cell_type": "markdown",
   "metadata": {},
   "source": [
    "# Destructor\n",
    "\n",
    "Python uses a garbase collector, and the standard CPython implementation uses reference counting and deletes objects when there are no more references to them.\n",
    "\n",
    "You can remove references using the `del` command (see in [Python Tutor](http://pythontutor.com/visualize.html#code=a+%3D+%5B1,2,3%5D%0Adel+a&mode=display&origin=opt-frontend.js&cumulative=false&heapPrimitives=false&textReferences=false&py=3&rawInputLstJSON=%5B%5D&curInstr=2)):"
   ]
  },
  {
   "cell_type": "code",
   "execution_count": null,
   "metadata": {},
   "outputs": [],
   "source": [
    "a = [1,2,3]\n",
    "del a\n",
    "a"
   ]
  },
  {
   "cell_type": "markdown",
   "metadata": {},
   "source": [
    "You can implement the [`__del__`](https://docs.python.org/3.5/reference/datamodel.html#object.__del__) method which is called when an instance is about to be destroyed. \n",
    "This is also called a **destructor**. \n",
    "Similar to `__init__`, if a base (parent) class has a `__del__` method then you must explicitly call it. \n",
    "It is not guaranteed that __del__() methods are called for objects that still exist when the interpreter exits."
   ]
  },
  {
   "cell_type": "code",
   "execution_count": null,
   "metadata": {},
   "outputs": [],
   "source": [
    "class A:\n",
    "    def __init__(self, name):\n",
    "        self.name = name\n",
    "        print('Initialize')\n",
    "        \n",
    "    def __del__(self):\n",
    "        print('Delete')\n",
    "        \n",
    "    def __repr__(self):\n",
    "        return self.name"
   ]
  },
  {
   "cell_type": "code",
   "execution_count": null,
   "metadata": {},
   "outputs": [],
   "source": [
    "a = A('Alex')\n",
    "print(a)"
   ]
  },
  {
   "cell_type": "code",
   "execution_count": null,
   "metadata": {},
   "outputs": [],
   "source": [
    "b = a\n",
    "print(b)"
   ]
  },
  {
   "cell_type": "code",
   "execution_count": null,
   "metadata": {},
   "outputs": [],
   "source": [
    "del a\n",
    "print(b)"
   ]
  },
  {
   "cell_type": "code",
   "execution_count": null,
   "metadata": {},
   "outputs": [],
   "source": [
    "del b"
   ]
  },
  {
   "cell_type": "markdown",
   "metadata": {},
   "source": [
    "Note that several things can implicitly save a reference to your object, including the `_` variable name and stack traces."
   ]
  },
  {
   "cell_type": "markdown",
   "metadata": {},
   "source": [
    "# References\n",
    "\n",
    "- Python 3 [OOP tutorial](https://docs.python.org/3/tutorial/classes.html)\n",
    "- Leonardo Giordani's [OOP notebooks](http://nbviewer.jupyter.org/github/lgiordani/blog_source/blob/master/pelican/content/notebooks/Python_3_OOP_Part_3__Delegation__composition_and_inheritance.ipynb)\n",
    "- [ Fluent Python](http://shop.oreilly.com/product/0636920032519.do) by Luciano Ramalho is a great book for intermediate and advanced Python programmers.\n",
    "- [Python data model docs](https://docs.python.org/3.5/reference/datamodel.html)."
   ]
  }
 ],
 "metadata": {
  "kernelspec": {
   "display_name": "Python 3 (ipykernel)",
   "language": "python",
   "name": "python3"
  },
  "language_info": {
   "codemirror_mode": {
    "name": "ipython",
    "version": 3
   },
   "file_extension": ".py",
   "mimetype": "text/x-python",
   "name": "python",
   "nbconvert_exporter": "python",
   "pygments_lexer": "ipython3",
   "version": "3.10.8"
  }
 },
 "nbformat": 4,
 "nbformat_minor": 4
}
